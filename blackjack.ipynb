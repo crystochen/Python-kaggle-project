{
 "cells": [
  {
   "cell_type": "code",
   "execution_count": null,
   "metadata": {},
   "outputs": [],
   "source": [
    "def should_hit(dealer_total, player_total, player_low_aces, player_high_aces):\n",
    "    \"\"\"Return True if the player should hit (request another card) given the current game\n",
    "    state, or False if the player should stay.\n",
    "    When calculating a hand's total value, we count aces as \"high\" (with value 11) if doing so\n",
    "    doesn't bring the total above 21, otherwise we count them as low (with value 1). \n",
    "    For example, if the player's hand is {A, A, A, 7}, we will count it as 11 + 1 + 1 + 7,\n",
    "    and therefore set player_total=20, player_low_aces=2, player_high_aces=1.\n",
    "    \"\"\"\n",
    "    # player's total of the first two cards\n",
    "    # max = A + J/Q/K = 11+10 = 21 \n",
    "    if player_high_aces <= 1 and player_total < 21: \n",
    "        return True \n",
    "    # min = A + A = 2\n",
    "        return False"
   ]
  },
  {
   "cell_type": "code",
   "execution_count": 65,
   "metadata": {},
   "outputs": [],
   "source": [
    "def hand_count(hand):\n",
    "     dic = {'J':10,'Q':10,'K':10,'A':0, '1':1, '2':2, '3':3, '4':4, '5':5, '6':6,'7':7,'8':8,'9':9,'10':10}\n",
    "     best_total = 0\n",
    "     small_sum = 0\n",
    "     big_sum = 0\n",
    "     # find if there's any Ace\n",
    "     if 'A' in hand:\n",
    "     #  valid sum of Aces\n",
    "          num_A = hand.count('A')\n",
    "          small_ace = 1\n",
    "          big_ace = 11\n",
    "          for a in range(num_A-1):    \n",
    "               small_ace +=1\n",
    "               big_ace +=1 \n",
    "               print(small_sum,big_sum)\n",
    "     else: \n",
    "          num_A = 0\n",
    "          small_ace = 0\n",
    "          big_ace = 0\n",
    "     # count the sum of the cards except Ace(s)\n",
    "     hand_1_num = []\n",
    "     dit_sum = 0\n",
    "     for card in hand:\n",
    "          n = dic[card]\n",
    "          dit_sum += n  \n",
    "     # Find the best combination     \n",
    "     small_sum = dit_sum + small_ace\n",
    "     big_sum = dit_sum + big_ace\n",
    "     if small_sum < 21 and big_sum < 21:\n",
    "          best_total = big_sum\n",
    "     elif small_sum < 21 and big_sum > 21:\n",
    "          best_total = small_sum\n",
    "     elif small_sum > 21:\n",
    "          best_total = 0\n",
    "     print('smaller sum is {}, bigger sum is {}, and the best sum is {}.'.format(small_sum,big_sum,best_total))\n",
    "     return best_total\n",
    "\n",
    "def blackjack_hand_greater_than(hand_1, hand_2):\n",
    "     hand_1_best = hand_count(hand_1)\n",
    "     hand_2_best = hand_count(hand_2)\n",
    "     # compete! \n",
    "     return hand_1_best > hand_2_best"
   ]
  },
  {
   "cell_type": "code",
   "execution_count": 1,
   "metadata": {},
   "outputs": [
    {
     "ename": "NameError",
     "evalue": "name 'blackjack_hand_greater_than' is not defined",
     "output_type": "error",
     "traceback": [
      "\u001b[1;31m---------------------------------------------------------------------------\u001b[0m",
      "\u001b[1;31mNameError\u001b[0m                                 Traceback (most recent call last)",
      "Input \u001b[1;32mIn [1]\u001b[0m, in \u001b[0;36m<cell line: 3>\u001b[1;34m()\u001b[0m\n\u001b[0;32m      1\u001b[0m hand_1 \u001b[38;5;241m=\u001b[39m [\u001b[38;5;124m'\u001b[39m\u001b[38;5;124mQ\u001b[39m\u001b[38;5;124m'\u001b[39m, \u001b[38;5;124m'\u001b[39m\u001b[38;5;124m3\u001b[39m\u001b[38;5;124m'\u001b[39m, \u001b[38;5;124m'\u001b[39m\u001b[38;5;124m8\u001b[39m\u001b[38;5;124m'\u001b[39m]\n\u001b[0;32m      2\u001b[0m hand_2 \u001b[38;5;241m=\u001b[39m [\u001b[38;5;124m'\u001b[39m\u001b[38;5;124m7\u001b[39m\u001b[38;5;124m'\u001b[39m, \u001b[38;5;124m'\u001b[39m\u001b[38;5;124mQ\u001b[39m\u001b[38;5;124m'\u001b[39m, \u001b[38;5;124m'\u001b[39m\u001b[38;5;124m10\u001b[39m\u001b[38;5;124m'\u001b[39m, \u001b[38;5;124m'\u001b[39m\u001b[38;5;124m9\u001b[39m\u001b[38;5;124m'\u001b[39m, \u001b[38;5;124m'\u001b[39m\u001b[38;5;124mA\u001b[39m\u001b[38;5;124m'\u001b[39m]\n\u001b[1;32m----> 3\u001b[0m \u001b[43mblackjack_hand_greater_than\u001b[49m(hand_1, hand_2)\n",
      "\u001b[1;31mNameError\u001b[0m: name 'blackjack_hand_greater_than' is not defined"
     ]
    }
   ],
   "source": [
    "hand_1 = ['Q', '3', '8']\n",
    "hand_2 = ['7', 'Q', '10', '9', 'A']\n",
    "blackjack_hand_greater_than(hand_1, hand_2)"
   ]
  }
 ],
 "metadata": {
  "kernelspec": {
   "display_name": "Python 3",
   "language": "python",
   "name": "python3"
  },
  "language_info": {
   "codemirror_mode": {
    "name": "ipython",
    "version": 3
   },
   "file_extension": ".py",
   "mimetype": "text/x-python",
   "name": "python",
   "nbconvert_exporter": "python",
   "pygments_lexer": "ipython3",
   "version": "3.10.4"
  }
 },
 "nbformat": 4,
 "nbformat_minor": 2
}
